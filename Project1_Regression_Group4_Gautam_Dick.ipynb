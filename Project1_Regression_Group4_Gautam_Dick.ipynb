{
 "cells": [
  {
   "cell_type": "markdown",
   "metadata": {},
   "source": [
    "# Regression of Airbnb Prices\n",
    "<b>Introduction:</b>\n",
    "We all know that Airbnb is an online marketplace for arranging or offering lodging, primarily homestays, or tourism experiences since 2008. As NYC is the most populous city in the United States and also one of the most popular tourism and business place in the world, we would like to choose the best prediction model for the price\n",
    "\n",
    "\n"
   ]
  },
  {
   "cell_type": "markdown",
   "metadata": {},
   "source": [
    "## Descriptive information for the study and the dataset:\n",
    "<b>Link:</b> https://www.kaggle.com/dgomonov/new-york-city-airbnb-open-data <br>\n",
    "<br><b>Study Implications:</b> Since 2008, guests and hosts have used Airbnb to expand on traveling possibilities and present more unique, personalized way of experiencing the world. This dataset describes the listing activity and metrics in NYC, NY for 2019.\n",
    "\n",
    "Content:\n",
    "\n",
    "This data file includes all needed information to find out more about hosts, geographical availability, necessary metrics to make predictions and draw conclusions.\n",
    "\n",
    "Acknowledgements:\n",
    "\n",
    "This public dataset is part of Airbnb, and the original source can be found on this website.\n",
    "\n",
    "Inspiration:\n",
    "\n",
    "What can we learn about different hosts and areas?\n",
    "What can we learn how well we can makes predictions on the price of the airbnb rooms. <br>\n",
    "<br>\n",
    "<br>\n",
    "### Data Description: \n",
    "#### Input Variables:\n",
    "><b>Demographic Variables:</b> <br>\n",
    "1 id <br>\n",
    "2 name Categorical <br>\n",
    "3 host_id Numeric <br>\n",
    "4 host_name Categorical <br>\n",
    "5 neighbourhood_group Categorical <br>\n",
    "6 neighbourhood Categorical <br>\n",
    "7 latitude Numeric <br>\n",
    "8 longitude Numeric <br>\n",
    "9 room_type Categorical <br>\n",
    "10 price Numeric <br>\n",
    "11 minimum_nights Numeric <br>\n",
    "12 number_of_reviews Numeric <br>\n",
    "13 last_review Datetime <br>\n",
    "14 reviews_per_month Numeric <br>\n",
    "15 calculated_host_listings_count Numeric <br>\n",
    "16 availability_365 Numeric <br>\n",
    "<br>\n",
    "#### Output variable (Target Variable):\n",
    ">16 - y - is the price of the Airbnb ) <br>\n"
   ]
  },
  {
   "cell_type": "code",
   "execution_count": 23,
   "metadata": {},
   "outputs": [],
   "source": [
    "#Importing all necessary libraries\n",
    "\n",
    "import pandas as pd\n",
    "import numpy as np\n",
    "import matplotlib.pyplot as plt\n",
    "import seaborn as sns\n",
    "\n",
    "from scipy.stats import norm\n",
    "from scipy import stats\n",
    "from sklearn import preprocessing\n",
    "from sklearn.preprocessing import LabelEncoder\n",
    "from sklearn.preprocessing import StandardScaler\n",
    "\n",
    "from sklearn.model_selection import train_test_split\n",
    "from sklearn.model_selection import KFold\n",
    "from sklearn.model_selection import GridSearchCV\n",
    "from sklearn.ensemble import ExtraTreesClassifier\n",
    "\n",
    "from sklearn.linear_model import LinearRegression\n",
    "from sklearn.preprocessing import PolynomialFeatures\n",
    "from sklearn.linear_model import Ridge\n",
    "from sklearn.linear_model import Lasso\n",
    "from sklearn.linear_model import ElasticNet\n",
    "\n",
    "from sklearn import metrics\n",
    "from sklearn.metrics import mean_squared_error\n",
    "from sklearn.metrics import mean_absolute_error\n",
    "from math import sqrt\n",
    "from sklearn.metrics import r2_score"
   ]
  },
  {
   "cell_type": "code",
   "execution_count": 24,
   "metadata": {},
   "outputs": [
    {
     "data": {
      "text/plain": [
       "<module 'os' from '/Users/sandeepgautam/opt/anaconda3/lib/python3.8/os.py'>"
      ]
     },
     "execution_count": 24,
     "metadata": {},
     "output_type": "execute_result"
    }
   ],
   "source": [
    "import os\n",
    "os\n"
   ]
  },
  {
   "cell_type": "code",
   "execution_count": 25,
   "metadata": {
    "scrolled": true
   },
   "outputs": [
    {
     "name": "stdout",
     "output_type": "stream",
     "text": [
      "<class 'pandas.core.frame.DataFrame'>\n",
      "RangeIndex: 48895 entries, 0 to 48894\n",
      "Data columns (total 16 columns):\n",
      " #   Column                          Non-Null Count  Dtype  \n",
      "---  ------                          --------------  -----  \n",
      " 0   id                              48895 non-null  int64  \n",
      " 1   name                            48879 non-null  object \n",
      " 2   host_id                         48895 non-null  int64  \n",
      " 3   host_name                       48874 non-null  object \n",
      " 4   neighbourhood_group             48895 non-null  object \n",
      " 5   neighbourhood                   48895 non-null  object \n",
      " 6   latitude                        48895 non-null  float64\n",
      " 7   longitude                       48895 non-null  float64\n",
      " 8   room_type                       48895 non-null  object \n",
      " 9   price                           48895 non-null  int64  \n",
      " 10  minimum_nights                  48895 non-null  int64  \n",
      " 11  number_of_reviews               48895 non-null  int64  \n",
      " 12  last_review                     38843 non-null  object \n",
      " 13  reviews_per_month               38843 non-null  float64\n",
      " 14  calculated_host_listings_count  48895 non-null  int64  \n",
      " 15  availability_365                48895 non-null  int64  \n",
      "dtypes: float64(3), int64(7), object(6)\n",
      "memory usage: 6.0+ MB\n"
     ]
    }
   ],
   "source": [
    "df=pd.read_csv('/Users/sandeepgautam/Downloads/archive/AB_NYC_2019.csv')\n",
    "df.head()\n",
    "df.neighbourhood_group.value_counts()\n",
    "df.info()\n",
    "\n",
    "    \n"
   ]
  },
  {
   "cell_type": "code",
   "execution_count": 26,
   "metadata": {},
   "outputs": [
    {
     "data": {
      "image/png": "[encoded data removed]",
      "text/plain": [
       "<Figure size 432x288 with 1 Axes>"
      ]
     },
     "metadata": {
      "needs_background": "light"
     },
     "output_type": "display_data"
    }
   ],
   "source": [
    "hist_price=df[\"price\"].hist()\n"
   ]
  },
  {
   "cell_type": "code",
   "execution_count": 27,
   "metadata": {},
   "outputs": [
    {
     "data": {
      "text/plain": [
       "count    25409.000000\n",
       "mean       211.794246\n",
       "std        284.041611\n",
       "min          0.000000\n",
       "25%        120.000000\n",
       "50%        160.000000\n",
       "75%        229.000000\n",
       "max      10000.000000\n",
       "Name: price, dtype: float64"
      ]
     },
     "execution_count": 27,
     "metadata": {},
     "output_type": "execute_result"
    }
   ],
   "source": [
    "df[df['room_type']=='Entire home/apt'].price.describe()\n"
   ]
  },
  {
   "cell_type": "markdown",
   "metadata": {},
   "source": [
    "* We slected Airbnb with price less than 250 dollars because houses with price more than 250 might have various other factor effecting it like design, lavishness, extra facilities like pools, movie hall. Since we don't have those information these data will have acted as a outliers\n",
    "\n"
   ]
  },
  {
   "cell_type": "code",
   "execution_count": 28,
   "metadata": {},
   "outputs": [],
   "source": [
    "df=df[df[\"price\"]<250]\n"
   ]
  },
  {
   "cell_type": "code",
   "execution_count": 29,
   "metadata": {},
   "outputs": [
    {
     "data": {
      "text/plain": [
       "(42669, 16)"
      ]
     },
     "execution_count": 29,
     "metadata": {},
     "output_type": "execute_result"
    }
   ],
   "source": [
    "\n",
    "df.shape"
   ]
  },
  {
   "cell_type": "markdown",
   "metadata": {},
   "source": [
    "> Dropping Unnecessary-columns \n",
    "###  Columns:id','name','host_id','host_name','last_review doesn't add value in our regression"
   ]
  },
  {
   "cell_type": "code",
   "execution_count": 30,
   "metadata": {},
   "outputs": [
    {
     "name": "stdout",
     "output_type": "stream",
     "text": [
      "<class 'pandas.core.frame.DataFrame'>\n",
      "Int64Index: 42669 entries, 0 to 48894\n",
      "Data columns (total 11 columns):\n",
      " #   Column                          Non-Null Count  Dtype  \n",
      "---  ------                          --------------  -----  \n",
      " 0   neighbourhood_group             42669 non-null  object \n",
      " 1   neighbourhood                   42669 non-null  object \n",
      " 2   latitude                        42669 non-null  float64\n",
      " 3   longitude                       42669 non-null  float64\n",
      " 4   room_type                       42669 non-null  object \n",
      " 5   price                           42669 non-null  int64  \n",
      " 6   minimum_nights                  42669 non-null  int64  \n",
      " 7   number_of_reviews               42669 non-null  int64  \n",
      " 8   reviews_per_month               34584 non-null  float64\n",
      " 9   calculated_host_listings_count  42669 non-null  int64  \n",
      " 10  availability_365                42669 non-null  int64  \n",
      "dtypes: float64(3), int64(5), object(3)\n",
      "memory usage: 3.9+ MB\n"
     ]
    }
   ],
   "source": [
    "for i in ['id','name','host_id','host_name','last_review']:\n",
    "    df.drop([i],axis=1,inplace=True)\n",
    "\n",
    "df.info()\n",
    "\n",
    "\n",
    "        "
   ]
  },
  {
   "cell_type": "code",
   "execution_count": 31,
   "metadata": {},
   "outputs": [
    {
     "data": {
      "text/plain": [
       "(34584, 11)"
      ]
     },
     "execution_count": 31,
     "metadata": {},
     "output_type": "execute_result"
    }
   ],
   "source": [
    "df.dropna(axis=0, how='any',inplace=True)\n",
    "df.shape"
   ]
  },
  {
   "cell_type": "markdown",
   "metadata": {},
   "source": [
    "## Heat map to get the basic understanding of the correlation in columns"
   ]
  },
  {
   "cell_type": "code",
   "execution_count": 32,
   "metadata": {},
   "outputs": [
    {
     "data": {
      "text/plain": [
       "<AxesSubplot:>"
      ]
     },
     "execution_count": 32,
     "metadata": {},
     "output_type": "execute_result"
    },
    {
     "data": {
      "image/png": "[encoded data removed]",
      "text/plain": [
       "<Figure size 432x288 with 2 Axes>"
      ]
     },
     "metadata": {
      "needs_background": "light"
     },
     "output_type": "display_data"
    }
   ],
   "source": [
    "import seaborn as sn\n",
    "\n",
    "sn.heatmap(df.corr(), annot=True)\n"
   ]
  },
  {
   "cell_type": "markdown",
   "metadata": {},
   "source": [
    "# Randomly making 5% of the data as np.nan"
   ]
  },
  {
   "cell_type": "markdown",
   "metadata": {},
   "source": [
    "> 5% of the values will be randomly imputed as np.nan values"
   ]
  },
  {
   "cell_type": "code",
   "execution_count": 33,
   "metadata": {},
   "outputs": [],
   "source": [
    "df.head()\n",
    "temp=df.neighbourhood\n",
    "temp2=df.neighbourhood_group"
   ]
  },
  {
   "cell_type": "markdown",
   "metadata": {},
   "source": [
    "* We choose not to make neighbourhood and neighbourhood_group to be nan becasue we are using this information to impute other value. Plus we have already removed the rows with neighbourhood and neighbourhood_group as nan from the original dataset"
   ]
  },
  {
   "cell_type": "code",
   "execution_count": 34,
   "metadata": {},
   "outputs": [],
   "source": [
    "df=df.iloc[:,df.columns!='neighbourhood']\n",
    "df=df.iloc[:,df.columns!='neighbourhood_group']\n",
    "\n",
    "\n"
   ]
  },
  {
   "cell_type": "code",
   "execution_count": 35,
   "metadata": {},
   "outputs": [
    {
     "data": {
      "text/plain": [
       "(34584, 9)"
      ]
     },
     "execution_count": 35,
     "metadata": {},
     "output_type": "execute_result"
    }
   ],
   "source": [
    "nan_mat = np.random.random(df.shape)<0.07\n",
    "nan_mat.shape"
   ]
  },
  {
   "cell_type": "code",
   "execution_count": 36,
   "metadata": {},
   "outputs": [
    {
     "data": {
      "text/plain": [
       "21580"
      ]
     },
     "execution_count": 36,
     "metadata": {},
     "output_type": "execute_result"
    }
   ],
   "source": [
    "nan_mat.sum()\n"
   ]
  },
  {
   "cell_type": "code",
   "execution_count": 37,
   "metadata": {},
   "outputs": [
    {
     "name": "stdout",
     "output_type": "stream",
     "text": [
      "<class 'pandas.core.frame.DataFrame'>\n",
      "Int64Index: 34584 entries, 0 to 48852\n",
      "Data columns (total 9 columns):\n",
      " #   Column                          Non-Null Count  Dtype  \n",
      "---  ------                          --------------  -----  \n",
      " 0   latitude                        32189 non-null  float64\n",
      " 1   longitude                       32258 non-null  float64\n",
      " 2   room_type                       32106 non-null  object \n",
      " 3   price                           32192 non-null  float64\n",
      " 4   minimum_nights                  32186 non-null  float64\n",
      " 5   number_of_reviews               32195 non-null  float64\n",
      " 6   reviews_per_month               32160 non-null  float64\n",
      " 7   calculated_host_listings_count  32167 non-null  float64\n",
      " 8   availability_365                32223 non-null  float64\n",
      "dtypes: float64(8), object(1)\n",
      "memory usage: 2.6+ MB\n"
     ]
    }
   ],
   "source": [
    "dfn = df.mask(nan_mat)\n",
    "dfn.info()\n"
   ]
  },
  {
   "cell_type": "code",
   "execution_count": 38,
   "metadata": {},
   "outputs": [],
   "source": [
    "dfn=dfn.join(temp)\n",
    "dfn=dfn.join(temp2)\n",
    "\n"
   ]
  },
  {
   "cell_type": "markdown",
   "metadata": {},
   "source": [
    ">  5% of new data frame is nan\n"
   ]
  },
  {
   "cell_type": "code",
   "execution_count": 39,
   "metadata": {},
   "outputs": [
    {
     "name": "stdout",
     "output_type": "stream",
     "text": [
      "0.05672617921056505\n"
     ]
    }
   ],
   "source": [
    "\n",
    "nnan = dfn.isnull().sum().sum()\n",
    "ntot = dfn.shape[1]*dfn.shape[0]\n",
    "percent_nan = nnan/ntot\n",
    "\n",
    "print(percent_nan)"
   ]
  },
  {
   "cell_type": "markdown",
   "metadata": {},
   "source": [
    "### Export new copy of data with 5% NaN\n",
    "><b>Named:</b> updated_airbnbdata.csv"
   ]
  },
  {
   "cell_type": "code",
   "execution_count": 40,
   "metadata": {},
   "outputs": [],
   "source": [
    "dfn.to_csv('updated_airbnbdata.csv')"
   ]
  },
  {
   "cell_type": "code",
   "execution_count": 41,
   "metadata": {},
   "outputs": [
    {
     "data": {
      "text/plain": [
       "latitude                          2395\n",
       "longitude                         2326\n",
       "room_type                         2478\n",
       "price                             2392\n",
       "minimum_nights                    2398\n",
       "number_of_reviews                 2389\n",
       "reviews_per_month                 2424\n",
       "calculated_host_listings_count    2417\n",
       "availability_365                  2361\n",
       "neighbourhood                        0\n",
       "neighbourhood_group                  0\n",
       "dtype: int64"
      ]
     },
     "execution_count": 41,
     "metadata": {},
     "output_type": "execute_result"
    }
   ],
   "source": [
    "dfn.isna().sum()"
   ]
  },
  {
   "cell_type": "markdown",
   "metadata": {},
   "source": [
    "# Imputation\n",
    "##  Data Preprocessing and Preparation for ML Regression Algorithms:"
   ]
  },
  {
   "cell_type": "markdown",
   "metadata": {},
   "source": [
    "> Strategy for imputing Latitude & longitude: Latitude,longitude are highly related with the neighbourhood so we will impute these columns with mean of each neighbourhood\n",
    "\n"
   ]
  },
  {
   "cell_type": "code",
   "execution_count": 42,
   "metadata": {},
   "outputs": [],
   "source": [
    "for i in ['latitude', 'longitude']:\n",
    "    dfn[i]=dfn[i].fillna(dfn.groupby('neighbourhood')[i].transform('mean'))\n",
    "\n"
   ]
  },
  {
   "cell_type": "code",
   "execution_count": null,
   "metadata": {},
   "outputs": [],
   "source": []
  },
  {
   "cell_type": "markdown",
   "metadata": {},
   "source": [
    "* Becuase latitute and longitute information cannot be normalized we converted the latitude and longitude to radians instead of degrees which will basically represent the same thing but in a different unit"
   ]
  },
  {
   "cell_type": "code",
   "execution_count": 43,
   "metadata": {},
   "outputs": [],
   "source": [
    "#i=pd.DataFrame(c)\n",
    "dfn[\"latitude\"]=np.radians(dfn[\"latitude\"])\n",
    "dfn[\"longitude\"]=np.radians(dfn[\"longitude\"])"
   ]
  },
  {
   "cell_type": "markdown",
   "metadata": {},
   "source": [
    "## Imputing room_type with the mode room_type of the particlar neighbourhood \n",
    "* The reason is because the unkwown room type has high chance of being similar to the most repitative room type in a particular area\n",
    "\n",
    "> Imputing in this way because there was some technical issue imputing in the simple manner"
   ]
  },
  {
   "cell_type": "code",
   "execution_count": 44,
   "metadata": {},
   "outputs": [],
   "source": [
    "c=[]\n",
    "for i,ii in zip(dfn['room_type'],dfn['neighbourhood']):\n",
    "    b=[]\n",
    "    if i=='Entire home/apt':\n",
    "        c.append(\"Entire home\")\n",
    "    if i==\"Private room\":\n",
    "        c.append(\"Private room\")\n",
    "    if i=='Shared room':\n",
    "        c.append(\"Shared room\")\n",
    "    if i!='Entire home/apt':\n",
    "        if i!='Private room':\n",
    "            if i!='Shared room':\n",
    "                b=dfn[dfn['neighbourhood']==ii].room_type.mode()[0]\n",
    "                c.append(b)\n",
    "\n"
   ]
  },
  {
   "cell_type": "code",
   "execution_count": 45,
   "metadata": {},
   "outputs": [],
   "source": [
    "dfn['room_type_new']=c\n"
   ]
  },
  {
   "cell_type": "code",
   "execution_count": 46,
   "metadata": {},
   "outputs": [
    {
     "data": {
      "text/html": [
       "<div>\n",
       "<style scoped>\n",
       "    .dataframe tbody tr th:only-of-type {\n",
       "        vertical-align: middle;\n",
       "    }\n",
       "\n",
       "    .dataframe tbody tr th {\n",
       "        vertical-align: top;\n",
       "    }\n",
       "\n",
       "    .dataframe thead th {\n",
       "        text-align: right;\n",
       "    }\n",
       "</style>\n",
       "<table border=\"1\" class=\"dataframe\">\n",
       "  <thead>\n",
       "    <tr style=\"text-align: right;\">\n",
       "      <th></th>\n",
       "      <th>latitude</th>\n",
       "      <th>longitude</th>\n",
       "      <th>price</th>\n",
       "      <th>minimum_nights</th>\n",
       "      <th>number_of_reviews</th>\n",
       "      <th>reviews_per_month</th>\n",
       "      <th>calculated_host_listings_count</th>\n",
       "      <th>availability_365</th>\n",
       "      <th>neighbourhood</th>\n",
       "      <th>neighbourhood_group</th>\n",
       "      <th>room_type_new</th>\n",
       "    </tr>\n",
       "  </thead>\n",
       "  <tbody>\n",
       "    <tr>\n",
       "      <th>0</th>\n",
       "      <td>0.709433</td>\n",
       "      <td>-1.291061</td>\n",
       "      <td>NaN</td>\n",
       "      <td>1.0</td>\n",
       "      <td>9.0</td>\n",
       "      <td>0.21</td>\n",
       "      <td>6.0</td>\n",
       "      <td>365.0</td>\n",
       "      <td>Kensington</td>\n",
       "      <td>Brooklyn</td>\n",
       "      <td>Private room</td>\n",
       "    </tr>\n",
       "  </tbody>\n",
       "</table>\n",
       "</div>"
      ],
      "text/plain": [
       "   latitude  longitude  price  minimum_nights  number_of_reviews  \\\n",
       "0  0.709433  -1.291061    NaN             1.0                9.0   \n",
       "\n",
       "   reviews_per_month  calculated_host_listings_count  availability_365  \\\n",
       "0               0.21                             6.0             365.0   \n",
       "\n",
       "  neighbourhood neighbourhood_group room_type_new  \n",
       "0    Kensington            Brooklyn  Private room  "
      ]
     },
     "execution_count": 46,
     "metadata": {},
     "output_type": "execute_result"
    }
   ],
   "source": [
    "dfn=dfn.drop('room_type',axis=1)\n",
    "dfn.head(1)"
   ]
  },
  {
   "cell_type": "code",
   "execution_count": 47,
   "metadata": {},
   "outputs": [
    {
     "data": {
      "text/plain": [
       "Private room       17585\n",
       "Entire home        15214\n",
       "Entire home/apt     1012\n",
       "Shared room          773\n",
       "Name: room_type_new, dtype: int64"
      ]
     },
     "execution_count": 47,
     "metadata": {},
     "output_type": "execute_result"
    }
   ],
   "source": [
    "dfn['room_type_new'].value_counts()"
   ]
  },
  {
   "cell_type": "code",
   "execution_count": 48,
   "metadata": {},
   "outputs": [],
   "source": [
    "dfn['room_type_new'].replace('Entire home/apt','Entire home',inplace=True)"
   ]
  },
  {
   "cell_type": "code",
   "execution_count": 49,
   "metadata": {},
   "outputs": [
    {
     "data": {
      "text/plain": [
       "Private room    17585\n",
       "Entire home     16226\n",
       "Shared room       773\n",
       "Name: room_type_new, dtype: int64"
      ]
     },
     "execution_count": 49,
     "metadata": {},
     "output_type": "execute_result"
    }
   ],
   "source": [
    "dfn['room_type_new'].value_counts()"
   ]
  },
  {
   "cell_type": "markdown",
   "metadata": {},
   "source": [
    "# Imputing the price columns on the basic of room type and neighbourhood\n",
    "* Room of similar type in similar location tend to have similar prices"
   ]
  },
  {
   "cell_type": "code",
   "execution_count": 50,
   "metadata": {},
   "outputs": [],
   "source": [
    "\n",
    "for i in ['price','reviews_per_month', 'longitude','minimum_nights','number_of_reviews','calculated_host_listings_count','availability_365']:\n",
    "    dfn[i]=dfn[i].fillna(dfn.groupby(['neighbourhood','room_type_new'])[i].transform('mean'))\n",
    "\n",
    "\n",
    "\n",
    "#dfn['price']=dfn['price'].fillna(dfn.groupby(['neighbourhood','room_type_new'])['price'].transform('mean'))\n",
    "\n",
    "#dfn.groupby(['neighbourhood','room_type_new']).mean()"
   ]
  },
  {
   "cell_type": "markdown",
   "metadata": {},
   "source": [
    "> Removing some rows that didn't get imputed because of some complexity in the data, since we are working with 30k plus data, removing 15 rows wouldn't make any difference"
   ]
  },
  {
   "cell_type": "code",
   "execution_count": 51,
   "metadata": {},
   "outputs": [
    {
     "data": {
      "text/plain": [
       "latitude                          0\n",
       "longitude                         1\n",
       "price                             5\n",
       "minimum_nights                    2\n",
       "number_of_reviews                 2\n",
       "reviews_per_month                 4\n",
       "calculated_host_listings_count    3\n",
       "availability_365                  5\n",
       "neighbourhood                     0\n",
       "neighbourhood_group               0\n",
       "room_type_new                     0\n",
       "dtype: int64"
      ]
     },
     "execution_count": 51,
     "metadata": {},
     "output_type": "execute_result"
    }
   ],
   "source": [
    "dfn.isna().sum()"
   ]
  },
  {
   "cell_type": "code",
   "execution_count": 52,
   "metadata": {},
   "outputs": [],
   "source": [
    "dfn=dfn.dropna(how='any')\n"
   ]
  },
  {
   "cell_type": "code",
   "execution_count": 53,
   "metadata": {},
   "outputs": [
    {
     "data": {
      "text/html": [
       "<div>\n",
       "<style scoped>\n",
       "    .dataframe tbody tr th:only-of-type {\n",
       "        vertical-align: middle;\n",
       "    }\n",
       "\n",
       "    .dataframe tbody tr th {\n",
       "        vertical-align: top;\n",
       "    }\n",
       "\n",
       "    .dataframe thead th {\n",
       "        text-align: right;\n",
       "    }\n",
       "</style>\n",
       "<table border=\"1\" class=\"dataframe\">\n",
       "  <thead>\n",
       "    <tr style=\"text-align: right;\">\n",
       "      <th></th>\n",
       "      <th>latitude</th>\n",
       "      <th>longitude</th>\n",
       "      <th>price</th>\n",
       "      <th>minimum_nights</th>\n",
       "      <th>number_of_reviews</th>\n",
       "      <th>reviews_per_month</th>\n",
       "      <th>calculated_host_listings_count</th>\n",
       "      <th>availability_365</th>\n",
       "      <th>neighbourhood</th>\n",
       "      <th>neighbourhood_group</th>\n",
       "      <th>room_type_new</th>\n",
       "    </tr>\n",
       "  </thead>\n",
       "  <tbody>\n",
       "    <tr>\n",
       "      <th>0</th>\n",
       "      <td>0.709433</td>\n",
       "      <td>-1.291061</td>\n",
       "      <td>59.060976</td>\n",
       "      <td>1.0</td>\n",
       "      <td>9.0</td>\n",
       "      <td>0.21</td>\n",
       "      <td>6.0</td>\n",
       "      <td>365.0</td>\n",
       "      <td>Kensington</td>\n",
       "      <td>Brooklyn</td>\n",
       "      <td>Private room</td>\n",
       "    </tr>\n",
       "    <tr>\n",
       "      <th>1</th>\n",
       "      <td>0.711285</td>\n",
       "      <td>-1.291260</td>\n",
       "      <td>225.000000</td>\n",
       "      <td>1.0</td>\n",
       "      <td>45.0</td>\n",
       "      <td>0.38</td>\n",
       "      <td>2.0</td>\n",
       "      <td>355.0</td>\n",
       "      <td>Midtown</td>\n",
       "      <td>Manhattan</td>\n",
       "      <td>Entire home</td>\n",
       "    </tr>\n",
       "    <tr>\n",
       "      <th>3</th>\n",
       "      <td>0.710090</td>\n",
       "      <td>-1.290841</td>\n",
       "      <td>89.000000</td>\n",
       "      <td>1.0</td>\n",
       "      <td>270.0</td>\n",
       "      <td>4.64</td>\n",
       "      <td>1.0</td>\n",
       "      <td>194.0</td>\n",
       "      <td>Clinton Hill</td>\n",
       "      <td>Brooklyn</td>\n",
       "      <td>Entire home</td>\n",
       "    </tr>\n",
       "    <tr>\n",
       "      <th>4</th>\n",
       "      <td>0.712068</td>\n",
       "      <td>-1.290566</td>\n",
       "      <td>80.000000</td>\n",
       "      <td>10.0</td>\n",
       "      <td>9.0</td>\n",
       "      <td>0.10</td>\n",
       "      <td>1.0</td>\n",
       "      <td>0.0</td>\n",
       "      <td>East Harlem</td>\n",
       "      <td>Manhattan</td>\n",
       "      <td>Entire home</td>\n",
       "    </tr>\n",
       "    <tr>\n",
       "      <th>5</th>\n",
       "      <td>0.711181</td>\n",
       "      <td>-1.291107</td>\n",
       "      <td>200.000000</td>\n",
       "      <td>3.0</td>\n",
       "      <td>74.0</td>\n",
       "      <td>0.59</td>\n",
       "      <td>1.0</td>\n",
       "      <td>129.0</td>\n",
       "      <td>Murray Hill</td>\n",
       "      <td>Manhattan</td>\n",
       "      <td>Entire home</td>\n",
       "    </tr>\n",
       "  </tbody>\n",
       "</table>\n",
       "</div>"
      ],
      "text/plain": [
       "   latitude  longitude       price  minimum_nights  number_of_reviews  \\\n",
       "0  0.709433  -1.291061   59.060976             1.0                9.0   \n",
       "1  0.711285  -1.291260  225.000000             1.0               45.0   \n",
       "3  0.710090  -1.290841   89.000000             1.0              270.0   \n",
       "4  0.712068  -1.290566   80.000000            10.0                9.0   \n",
       "5  0.711181  -1.291107  200.000000             3.0               74.0   \n",
       "\n",
       "   reviews_per_month  calculated_host_listings_count  availability_365  \\\n",
       "0               0.21                             6.0             365.0   \n",
       "1               0.38                             2.0             355.0   \n",
       "3               4.64                             1.0             194.0   \n",
       "4               0.10                             1.0               0.0   \n",
       "5               0.59                             1.0             129.0   \n",
       "\n",
       "  neighbourhood neighbourhood_group room_type_new  \n",
       "0    Kensington            Brooklyn  Private room  \n",
       "1       Midtown           Manhattan   Entire home  \n",
       "3  Clinton Hill            Brooklyn   Entire home  \n",
       "4   East Harlem           Manhattan   Entire home  \n",
       "5   Murray Hill           Manhattan   Entire home  "
      ]
     },
     "execution_count": 53,
     "metadata": {},
     "output_type": "execute_result"
    }
   ],
   "source": [
    "dfn.head()"
   ]
  },
  {
   "cell_type": "markdown",
   "metadata": {},
   "source": [
    "## Preprocessing Data for ML Regression Algorithms"
   ]
  },
  {
   "cell_type": "code",
   "execution_count": 54,
   "metadata": {},
   "outputs": [
    {
     "data": {
      "text/html": [
       "<div>\n",
       "<style scoped>\n",
       "    .dataframe tbody tr th:only-of-type {\n",
       "        vertical-align: middle;\n",
       "    }\n",
       "\n",
       "    .dataframe tbody tr th {\n",
       "        vertical-align: top;\n",
       "    }\n",
       "\n",
       "    .dataframe thead th {\n",
       "        text-align: right;\n",
       "    }\n",
       "</style>\n",
       "<table border=\"1\" class=\"dataframe\">\n",
       "  <thead>\n",
       "    <tr style=\"text-align: right;\">\n",
       "      <th></th>\n",
       "      <th>latitude</th>\n",
       "      <th>longitude</th>\n",
       "      <th>price</th>\n",
       "      <th>minimum_nights</th>\n",
       "      <th>number_of_reviews</th>\n",
       "      <th>reviews_per_month</th>\n",
       "      <th>calculated_host_listings_count</th>\n",
       "      <th>availability_365</th>\n",
       "      <th>neighbourhood</th>\n",
       "      <th>neighbourhood_group</th>\n",
       "      <th>room_type_new</th>\n",
       "    </tr>\n",
       "  </thead>\n",
       "  <tbody>\n",
       "    <tr>\n",
       "      <th>0</th>\n",
       "      <td>0.709433</td>\n",
       "      <td>-1.291061</td>\n",
       "      <td>59.060976</td>\n",
       "      <td>1.0</td>\n",
       "      <td>9.0</td>\n",
       "      <td>0.21</td>\n",
       "      <td>6.000000</td>\n",
       "      <td>365.0</td>\n",
       "      <td>Kensington</td>\n",
       "      <td>Brooklyn</td>\n",
       "      <td>Private room</td>\n",
       "    </tr>\n",
       "    <tr>\n",
       "      <th>1</th>\n",
       "      <td>0.711285</td>\n",
       "      <td>-1.291260</td>\n",
       "      <td>225.000000</td>\n",
       "      <td>1.0</td>\n",
       "      <td>45.0</td>\n",
       "      <td>0.38</td>\n",
       "      <td>2.000000</td>\n",
       "      <td>355.0</td>\n",
       "      <td>Midtown</td>\n",
       "      <td>Manhattan</td>\n",
       "      <td>Entire home</td>\n",
       "    </tr>\n",
       "    <tr>\n",
       "      <th>3</th>\n",
       "      <td>0.710090</td>\n",
       "      <td>-1.290841</td>\n",
       "      <td>89.000000</td>\n",
       "      <td>1.0</td>\n",
       "      <td>270.0</td>\n",
       "      <td>4.64</td>\n",
       "      <td>1.000000</td>\n",
       "      <td>194.0</td>\n",
       "      <td>Clinton Hill</td>\n",
       "      <td>Brooklyn</td>\n",
       "      <td>Entire home</td>\n",
       "    </tr>\n",
       "    <tr>\n",
       "      <th>4</th>\n",
       "      <td>0.712068</td>\n",
       "      <td>-1.290566</td>\n",
       "      <td>80.000000</td>\n",
       "      <td>10.0</td>\n",
       "      <td>9.0</td>\n",
       "      <td>0.10</td>\n",
       "      <td>1.000000</td>\n",
       "      <td>0.0</td>\n",
       "      <td>East Harlem</td>\n",
       "      <td>Manhattan</td>\n",
       "      <td>Entire home</td>\n",
       "    </tr>\n",
       "    <tr>\n",
       "      <th>5</th>\n",
       "      <td>0.711181</td>\n",
       "      <td>-1.291107</td>\n",
       "      <td>200.000000</td>\n",
       "      <td>3.0</td>\n",
       "      <td>74.0</td>\n",
       "      <td>0.59</td>\n",
       "      <td>1.000000</td>\n",
       "      <td>129.0</td>\n",
       "      <td>Murray Hill</td>\n",
       "      <td>Manhattan</td>\n",
       "      <td>Entire home</td>\n",
       "    </tr>\n",
       "    <tr>\n",
       "      <th>...</th>\n",
       "      <td>...</td>\n",
       "      <td>...</td>\n",
       "      <td>...</td>\n",
       "      <td>...</td>\n",
       "      <td>...</td>\n",
       "      <td>...</td>\n",
       "      <td>...</td>\n",
       "      <td>...</td>\n",
       "      <td>...</td>\n",
       "      <td>...</td>\n",
       "      <td>...</td>\n",
       "    </tr>\n",
       "    <tr>\n",
       "      <th>48782</th>\n",
       "      <td>0.711763</td>\n",
       "      <td>-1.290735</td>\n",
       "      <td>129.000000</td>\n",
       "      <td>1.0</td>\n",
       "      <td>1.0</td>\n",
       "      <td>1.00</td>\n",
       "      <td>1.000000</td>\n",
       "      <td>147.0</td>\n",
       "      <td>Upper East Side</td>\n",
       "      <td>Manhattan</td>\n",
       "      <td>Private room</td>\n",
       "    </tr>\n",
       "    <tr>\n",
       "      <th>48790</th>\n",
       "      <td>0.711240</td>\n",
       "      <td>-1.288308</td>\n",
       "      <td>63.076923</td>\n",
       "      <td>1.0</td>\n",
       "      <td>1.0</td>\n",
       "      <td>1.00</td>\n",
       "      <td>4.334677</td>\n",
       "      <td>339.0</td>\n",
       "      <td>Flushing</td>\n",
       "      <td>Queens</td>\n",
       "      <td>Private room</td>\n",
       "    </tr>\n",
       "    <tr>\n",
       "      <th>48799</th>\n",
       "      <td>0.707588</td>\n",
       "      <td>-1.294035</td>\n",
       "      <td>235.000000</td>\n",
       "      <td>1.0</td>\n",
       "      <td>1.0</td>\n",
       "      <td>1.00</td>\n",
       "      <td>1.000000</td>\n",
       "      <td>87.0</td>\n",
       "      <td>Great Kills</td>\n",
       "      <td>Staten Island</td>\n",
       "      <td>Entire home</td>\n",
       "    </tr>\n",
       "    <tr>\n",
       "      <th>48805</th>\n",
       "      <td>0.712232</td>\n",
       "      <td>-1.290217</td>\n",
       "      <td>100.000000</td>\n",
       "      <td>1.0</td>\n",
       "      <td>2.0</td>\n",
       "      <td>2.00</td>\n",
       "      <td>1.000000</td>\n",
       "      <td>40.0</td>\n",
       "      <td>Mott Haven</td>\n",
       "      <td>Bronx</td>\n",
       "      <td>Private room</td>\n",
       "    </tr>\n",
       "    <tr>\n",
       "      <th>48852</th>\n",
       "      <td>0.710315</td>\n",
       "      <td>-1.290150</td>\n",
       "      <td>30.000000</td>\n",
       "      <td>1.0</td>\n",
       "      <td>1.0</td>\n",
       "      <td>1.00</td>\n",
       "      <td>1.000000</td>\n",
       "      <td>1.0</td>\n",
       "      <td>Bushwick</td>\n",
       "      <td>Brooklyn</td>\n",
       "      <td>Private room</td>\n",
       "    </tr>\n",
       "  </tbody>\n",
       "</table>\n",
       "<p>34565 rows × 11 columns</p>\n",
       "</div>"
      ],
      "text/plain": [
       "       latitude  longitude       price  minimum_nights  number_of_reviews  \\\n",
       "0      0.709433  -1.291061   59.060976             1.0                9.0   \n",
       "1      0.711285  -1.291260  225.000000             1.0               45.0   \n",
       "3      0.710090  -1.290841   89.000000             1.0              270.0   \n",
       "4      0.712068  -1.290566   80.000000            10.0                9.0   \n",
       "5      0.711181  -1.291107  200.000000             3.0               74.0   \n",
       "...         ...        ...         ...             ...                ...   \n",
       "48782  0.711763  -1.290735  129.000000             1.0                1.0   \n",
       "48790  0.711240  -1.288308   63.076923             1.0                1.0   \n",
       "48799  0.707588  -1.294035  235.000000             1.0                1.0   \n",
       "48805  0.712232  -1.290217  100.000000             1.0                2.0   \n",
       "48852  0.710315  -1.290150   30.000000             1.0                1.0   \n",
       "\n",
       "       reviews_per_month  calculated_host_listings_count  availability_365  \\\n",
       "0                   0.21                        6.000000             365.0   \n",
       "1                   0.38                        2.000000             355.0   \n",
       "3                   4.64                        1.000000             194.0   \n",
       "4                   0.10                        1.000000               0.0   \n",
       "5                   0.59                        1.000000             129.0   \n",
       "...                  ...                             ...               ...   \n",
       "48782               1.00                        1.000000             147.0   \n",
       "48790               1.00                        4.334677             339.0   \n",
       "48799               1.00                        1.000000              87.0   \n",
       "48805               2.00                        1.000000              40.0   \n",
       "48852               1.00                        1.000000               1.0   \n",
       "\n",
       "         neighbourhood neighbourhood_group room_type_new  \n",
       "0           Kensington            Brooklyn  Private room  \n",
       "1              Midtown           Manhattan   Entire home  \n",
       "3         Clinton Hill            Brooklyn   Entire home  \n",
       "4          East Harlem           Manhattan   Entire home  \n",
       "5          Murray Hill           Manhattan   Entire home  \n",
       "...                ...                 ...           ...  \n",
       "48782  Upper East Side           Manhattan  Private room  \n",
       "48790         Flushing              Queens  Private room  \n",
       "48799      Great Kills       Staten Island   Entire home  \n",
       "48805       Mott Haven               Bronx  Private room  \n",
       "48852         Bushwick            Brooklyn  Private room  \n",
       "\n",
       "[34565 rows x 11 columns]"
      ]
     },
     "execution_count": 54,
     "metadata": {},
     "output_type": "execute_result"
    }
   ],
   "source": [
    "from sklearn.preprocessing import MinMaxScaler\n",
    "from sklearn.model_selection import train_test_split\n",
    "data=dfn\n",
    "data"
   ]
  },
  {
   "cell_type": "markdown",
   "metadata": {},
   "source": []
  },
  {
   "cell_type": "code",
   "execution_count": 55,
   "metadata": {},
   "outputs": [
    {
     "data": {
      "text/html": [
       "<div>\n",
       "<style scoped>\n",
       "    .dataframe tbody tr th:only-of-type {\n",
       "        vertical-align: middle;\n",
       "    }\n",
       "\n",
       "    .dataframe tbody tr th {\n",
       "        vertical-align: top;\n",
       "    }\n",
       "\n",
       "    .dataframe thead th {\n",
       "        text-align: right;\n",
       "    }\n",
       "</style>\n",
       "<table border=\"1\" class=\"dataframe\">\n",
       "  <thead>\n",
       "    <tr style=\"text-align: right;\">\n",
       "      <th></th>\n",
       "      <th>latitude</th>\n",
       "      <th>longitude</th>\n",
       "      <th>price</th>\n",
       "      <th>minimum_nights</th>\n",
       "      <th>number_of_reviews</th>\n",
       "      <th>reviews_per_month</th>\n",
       "      <th>calculated_host_listings_count</th>\n",
       "      <th>availability_365</th>\n",
       "      <th>neighbourhood</th>\n",
       "      <th>Neighb-group_Bronx</th>\n",
       "      <th>Neighb-group_Brooklyn</th>\n",
       "      <th>Neighb-group_Manhattan</th>\n",
       "      <th>Neighb-group_Queens</th>\n",
       "      <th>Neighb-group_Staten Island</th>\n",
       "      <th>Room_Entire home</th>\n",
       "      <th>Room_Private room</th>\n",
       "      <th>Room_Shared room</th>\n",
       "    </tr>\n",
       "  </thead>\n",
       "  <tbody>\n",
       "    <tr>\n",
       "      <th>0</th>\n",
       "      <td>0.709433</td>\n",
       "      <td>-1.291061</td>\n",
       "      <td>59.060976</td>\n",
       "      <td>1.0</td>\n",
       "      <td>9.0</td>\n",
       "      <td>0.21</td>\n",
       "      <td>6.0</td>\n",
       "      <td>365.0</td>\n",
       "      <td>Kensington</td>\n",
       "      <td>0</td>\n",
       "      <td>1</td>\n",
       "      <td>0</td>\n",
       "      <td>0</td>\n",
       "      <td>0</td>\n",
       "      <td>0</td>\n",
       "      <td>1</td>\n",
       "      <td>0</td>\n",
       "    </tr>\n",
       "    <tr>\n",
       "      <th>1</th>\n",
       "      <td>0.711285</td>\n",
       "      <td>-1.291260</td>\n",
       "      <td>225.000000</td>\n",
       "      <td>1.0</td>\n",
       "      <td>45.0</td>\n",
       "      <td>0.38</td>\n",
       "      <td>2.0</td>\n",
       "      <td>355.0</td>\n",
       "      <td>Midtown</td>\n",
       "      <td>0</td>\n",
       "      <td>0</td>\n",
       "      <td>1</td>\n",
       "      <td>0</td>\n",
       "      <td>0</td>\n",
       "      <td>1</td>\n",
       "      <td>0</td>\n",
       "      <td>0</td>\n",
       "    </tr>\n",
       "    <tr>\n",
       "      <th>3</th>\n",
       "      <td>0.710090</td>\n",
       "      <td>-1.290841</td>\n",
       "      <td>89.000000</td>\n",
       "      <td>1.0</td>\n",
       "      <td>270.0</td>\n",
       "      <td>4.64</td>\n",
       "      <td>1.0</td>\n",
       "      <td>194.0</td>\n",
       "      <td>Clinton Hill</td>\n",
       "      <td>0</td>\n",
       "      <td>1</td>\n",
       "      <td>0</td>\n",
       "      <td>0</td>\n",
       "      <td>0</td>\n",
       "      <td>1</td>\n",
       "      <td>0</td>\n",
       "      <td>0</td>\n",
       "    </tr>\n",
       "    <tr>\n",
       "      <th>4</th>\n",
       "      <td>0.712068</td>\n",
       "      <td>-1.290566</td>\n",
       "      <td>80.000000</td>\n",
       "      <td>10.0</td>\n",
       "      <td>9.0</td>\n",
       "      <td>0.10</td>\n",
       "      <td>1.0</td>\n",
       "      <td>0.0</td>\n",
       "      <td>East Harlem</td>\n",
       "      <td>0</td>\n",
       "      <td>0</td>\n",
       "      <td>1</td>\n",
       "      <td>0</td>\n",
       "      <td>0</td>\n",
       "      <td>1</td>\n",
       "      <td>0</td>\n",
       "      <td>0</td>\n",
       "    </tr>\n",
       "    <tr>\n",
       "      <th>5</th>\n",
       "      <td>0.711181</td>\n",
       "      <td>-1.291107</td>\n",
       "      <td>200.000000</td>\n",
       "      <td>3.0</td>\n",
       "      <td>74.0</td>\n",
       "      <td>0.59</td>\n",
       "      <td>1.0</td>\n",
       "      <td>129.0</td>\n",
       "      <td>Murray Hill</td>\n",
       "      <td>0</td>\n",
       "      <td>0</td>\n",
       "      <td>1</td>\n",
       "      <td>0</td>\n",
       "      <td>0</td>\n",
       "      <td>1</td>\n",
       "      <td>0</td>\n",
       "      <td>0</td>\n",
       "    </tr>\n",
       "  </tbody>\n",
       "</table>\n",
       "</div>"
      ],
      "text/plain": [
       "   latitude  longitude       price  minimum_nights  number_of_reviews  \\\n",
       "0  0.709433  -1.291061   59.060976             1.0                9.0   \n",
       "1  0.711285  -1.291260  225.000000             1.0               45.0   \n",
       "3  0.710090  -1.290841   89.000000             1.0              270.0   \n",
       "4  0.712068  -1.290566   80.000000            10.0                9.0   \n",
       "5  0.711181  -1.291107  200.000000             3.0               74.0   \n",
       "\n",
       "   reviews_per_month  calculated_host_listings_count  availability_365  \\\n",
       "0               0.21                             6.0             365.0   \n",
       "1               0.38                             2.0             355.0   \n",
       "3               4.64                             1.0             194.0   \n",
       "4               0.10                             1.0               0.0   \n",
       "5               0.59                             1.0             129.0   \n",
       "\n",
       "  neighbourhood  Neighb-group_Bronx  Neighb-group_Brooklyn  \\\n",
       "0    Kensington                   0                      1   \n",
       "1       Midtown                   0                      0   \n",
       "3  Clinton Hill                   0                      1   \n",
       "4   East Harlem                   0                      0   \n",
       "5   Murray Hill                   0                      0   \n",
       "\n",
       "   Neighb-group_Manhattan  Neighb-group_Queens  Neighb-group_Staten Island  \\\n",
       "0                       0                    0                           0   \n",
       "1                       1                    0                           0   \n",
       "3                       0                    0                           0   \n",
       "4                       1                    0                           0   \n",
       "5                       1                    0                           0   \n",
       "\n",
       "   Room_Entire home  Room_Private room  Room_Shared room  \n",
       "0                 0                  1                 0  \n",
       "1                 1                  0                 0  \n",
       "3                 1                  0                 0  \n",
       "4                 1                  0                 0  \n",
       "5                 1                  0                 0  "
      ]
     },
     "execution_count": 55,
     "metadata": {},
     "output_type": "execute_result"
    }
   ],
   "source": [
    "one_hot=pd.get_dummies(data['neighbourhood_group'])\n",
    "one_hot=one_hot.add_prefix('Neighb-group_')\n",
    "data=data.join(one_hot)\n",
    "data=data.drop('neighbourhood_group',axis=1)\n",
    "data.head()\n",
    "\n",
    "\n",
    "\n",
    "\n",
    "\n",
    "one_hot=pd.get_dummies(data['room_type_new'])\n",
    "one_hot=one_hot.add_prefix('Room_')\n",
    "data=data.join(one_hot)\n",
    "data=data.drop('room_type_new',axis=1)\n",
    "data.head()\n",
    "\n",
    "\n",
    "\n",
    "#one_hot=pd.get_dummies(data['neighbourhood'])\n",
    "#one_hot=one_hot.add_prefix('Neighd_')\n",
    "#data=data.join(one_hot)\n",
    "#data=data.drop('neighbourhood',axis=1)"
   ]
  },
  {
   "cell_type": "code",
   "execution_count": 56,
   "metadata": {},
   "outputs": [
    {
     "data": {
      "text/plain": [
       "latitude                          0\n",
       "longitude                         0\n",
       "price                             0\n",
       "minimum_nights                    0\n",
       "number_of_reviews                 0\n",
       "reviews_per_month                 0\n",
       "calculated_host_listings_count    0\n",
       "availability_365                  0\n",
       "neighbourhood                     0\n",
       "Neighb-group_Bronx                0\n",
       "Neighb-group_Brooklyn             0\n",
       "Neighb-group_Manhattan            0\n",
       "Neighb-group_Queens               0\n",
       "Neighb-group_Staten Island        0\n",
       "Room_Entire home                  0\n",
       "Room_Private room                 0\n",
       "Room_Shared room                  0\n",
       "dtype: int64"
      ]
     },
     "execution_count": 56,
     "metadata": {},
     "output_type": "execute_result"
    }
   ],
   "source": [
    "data=data.dropna(how='any')\n",
    "data.isna().sum()"
   ]
  },
  {
   "cell_type": "markdown",
   "metadata": {},
   "source": [
    "> one hot encoding the categorical data\n",
    "## Dropping neighbourbood columns as the information is precisely mentioned in latitute and longitute columns\n"
   ]
  },
  {
   "cell_type": "code",
   "execution_count": 57,
   "metadata": {},
   "outputs": [
    {
     "data": {
      "text/html": [
       "<div>\n",
       "<style scoped>\n",
       "    .dataframe tbody tr th:only-of-type {\n",
       "        vertical-align: middle;\n",
       "    }\n",
       "\n",
       "    .dataframe tbody tr th {\n",
       "        vertical-align: top;\n",
       "    }\n",
       "\n",
       "    .dataframe thead th {\n",
       "        text-align: right;\n",
       "    }\n",
       "</style>\n",
       "<table border=\"1\" class=\"dataframe\">\n",
       "  <thead>\n",
       "    <tr style=\"text-align: right;\">\n",
       "      <th></th>\n",
       "      <th>latitude</th>\n",
       "      <th>longitude</th>\n",
       "      <th>price</th>\n",
       "      <th>minimum_nights</th>\n",
       "      <th>number_of_reviews</th>\n",
       "      <th>reviews_per_month</th>\n",
       "      <th>calculated_host_listings_count</th>\n",
       "      <th>availability_365</th>\n",
       "      <th>Neighb-group_Bronx</th>\n",
       "      <th>Neighb-group_Brooklyn</th>\n",
       "      <th>Neighb-group_Manhattan</th>\n",
       "      <th>Neighb-group_Queens</th>\n",
       "      <th>Neighb-group_Staten Island</th>\n",
       "      <th>Room_Entire home</th>\n",
       "      <th>Room_Private room</th>\n",
       "      <th>Room_Shared room</th>\n",
       "    </tr>\n",
       "  </thead>\n",
       "  <tbody>\n",
       "    <tr>\n",
       "      <th>0</th>\n",
       "      <td>0.709433</td>\n",
       "      <td>-1.291061</td>\n",
       "      <td>59.060976</td>\n",
       "      <td>1.0</td>\n",
       "      <td>9.0</td>\n",
       "      <td>0.21</td>\n",
       "      <td>6.0</td>\n",
       "      <td>365.0</td>\n",
       "      <td>0</td>\n",
       "      <td>1</td>\n",
       "      <td>0</td>\n",
       "      <td>0</td>\n",
       "      <td>0</td>\n",
       "      <td>0</td>\n",
       "      <td>1</td>\n",
       "      <td>0</td>\n",
       "    </tr>\n",
       "    <tr>\n",
       "      <th>1</th>\n",
       "      <td>0.711285</td>\n",
       "      <td>-1.291260</td>\n",
       "      <td>225.000000</td>\n",
       "      <td>1.0</td>\n",
       "      <td>45.0</td>\n",
       "      <td>0.38</td>\n",
       "      <td>2.0</td>\n",
       "      <td>355.0</td>\n",
       "      <td>0</td>\n",
       "      <td>0</td>\n",
       "      <td>1</td>\n",
       "      <td>0</td>\n",
       "      <td>0</td>\n",
       "      <td>1</td>\n",
       "      <td>0</td>\n",
       "      <td>0</td>\n",
       "    </tr>\n",
       "    <tr>\n",
       "      <th>3</th>\n",
       "      <td>0.710090</td>\n",
       "      <td>-1.290841</td>\n",
       "      <td>89.000000</td>\n",
       "      <td>1.0</td>\n",
       "      <td>270.0</td>\n",
       "      <td>4.64</td>\n",
       "      <td>1.0</td>\n",
       "      <td>194.0</td>\n",
       "      <td>0</td>\n",
       "      <td>1</td>\n",
       "      <td>0</td>\n",
       "      <td>0</td>\n",
       "      <td>0</td>\n",
       "      <td>1</td>\n",
       "      <td>0</td>\n",
       "      <td>0</td>\n",
       "    </tr>\n",
       "    <tr>\n",
       "      <th>4</th>\n",
       "      <td>0.712068</td>\n",
       "      <td>-1.290566</td>\n",
       "      <td>80.000000</td>\n",
       "      <td>10.0</td>\n",
       "      <td>9.0</td>\n",
       "      <td>0.10</td>\n",
       "      <td>1.0</td>\n",
       "      <td>0.0</td>\n",
       "      <td>0</td>\n",
       "      <td>0</td>\n",
       "      <td>1</td>\n",
       "      <td>0</td>\n",
       "      <td>0</td>\n",
       "      <td>1</td>\n",
       "      <td>0</td>\n",
       "      <td>0</td>\n",
       "    </tr>\n",
       "    <tr>\n",
       "      <th>5</th>\n",
       "      <td>0.711181</td>\n",
       "      <td>-1.291107</td>\n",
       "      <td>200.000000</td>\n",
       "      <td>3.0</td>\n",
       "      <td>74.0</td>\n",
       "      <td>0.59</td>\n",
       "      <td>1.0</td>\n",
       "      <td>129.0</td>\n",
       "      <td>0</td>\n",
       "      <td>0</td>\n",
       "      <td>1</td>\n",
       "      <td>0</td>\n",
       "      <td>0</td>\n",
       "      <td>1</td>\n",
       "      <td>0</td>\n",
       "      <td>0</td>\n",
       "    </tr>\n",
       "  </tbody>\n",
       "</table>\n",
       "</div>"
      ],
      "text/plain": [
       "   latitude  longitude       price  minimum_nights  number_of_reviews  \\\n",
       "0  0.709433  -1.291061   59.060976             1.0                9.0   \n",
       "1  0.711285  -1.291260  225.000000             1.0               45.0   \n",
       "3  0.710090  -1.290841   89.000000             1.0              270.0   \n",
       "4  0.712068  -1.290566   80.000000            10.0                9.0   \n",
       "5  0.711181  -1.291107  200.000000             3.0               74.0   \n",
       "\n",
       "   reviews_per_month  calculated_host_listings_count  availability_365  \\\n",
       "0               0.21                             6.0             365.0   \n",
       "1               0.38                             2.0             355.0   \n",
       "3               4.64                             1.0             194.0   \n",
       "4               0.10                             1.0               0.0   \n",
       "5               0.59                             1.0             129.0   \n",
       "\n",
       "   Neighb-group_Bronx  Neighb-group_Brooklyn  Neighb-group_Manhattan  \\\n",
       "0                   0                      1                       0   \n",
       "1                   0                      0                       1   \n",
       "3                   0                      1                       0   \n",
       "4                   0                      0                       1   \n",
       "5                   0                      0                       1   \n",
       "\n",
       "   Neighb-group_Queens  Neighb-group_Staten Island  Room_Entire home  \\\n",
       "0                    0                           0                 0   \n",
       "1                    0                           0                 1   \n",
       "3                    0                           0                 1   \n",
       "4                    0                           0                 1   \n",
       "5                    0                           0                 1   \n",
       "\n",
       "   Room_Private room  Room_Shared room  \n",
       "0                  1                 0  \n",
       "1                  0                 0  \n",
       "3                  0                 0  \n",
       "4                  0                 0  \n",
       "5                  0                 0  "
      ]
     },
     "execution_count": 57,
     "metadata": {},
     "output_type": "execute_result"
    }
   ],
   "source": [
    "data=data.drop('neighbourhood',axis=1)\n",
    "data.head()\n",
    "\n"
   ]
  },
  {
   "cell_type": "code",
   "execution_count": 58,
   "metadata": {},
   "outputs": [
    {
     "data": {
      "text/plain": [
       "(34565, 16)"
      ]
     },
     "execution_count": 58,
     "metadata": {},
     "output_type": "execute_result"
    }
   ],
   "source": [
    "data.shape\n"
   ]
  },
  {
   "cell_type": "code",
   "execution_count": 59,
   "metadata": {},
   "outputs": [],
   "source": [
    "y=data.price\n",
    "X=data.iloc[:,data.columns!='price']\n"
   ]
  },
  {
   "cell_type": "markdown",
   "metadata": {},
   "source": [
    "## Scalling the data"
   ]
  },
  {
   "cell_type": "code",
   "execution_count": 60,
   "metadata": {},
   "outputs": [],
   "source": [
    "from sklearn.preprocessing import MinMaxScaler\n",
    "from sklearn.model_selection import train_test_split\n",
    "\n",
    "X_train_org, X_test_org, y_train, y_test = train_test_split(X, y, random_state = 0, test_size = 0.2)\n",
    "\n",
    "scaler = MinMaxScaler()\n",
    "\n"
   ]
  },
  {
   "cell_type": "code",
   "execution_count": 61,
   "metadata": {},
   "outputs": [],
   "source": [
    "X_train = scaler.fit_transform(X_train_org)\n",
    "X_test = scaler.transform(X_test_org)"
   ]
  },
  {
   "cell_type": "markdown",
   "metadata": {},
   "source": [
    "# Random Forest  with grid search\n"
   ]
  },
  {
   "cell_type": "code",
   "execution_count": 62,
   "metadata": {},
   "outputs": [
    {
     "name": "stderr",
     "output_type": "stream",
     "text": [
      "/Users/sandeepgautam/opt/anaconda3/lib/python3.8/site-packages/sklearn/model_selection/_search.py:847: FutureWarning: The parameter 'iid' is deprecated in 0.22 and will be removed in 0.24.\n",
      "  warnings.warn(\n"
     ]
    },
    {
     "data": {
      "text/plain": [
       "({'max_depth': 12}, 0.5726615766155122)"
      ]
     },
     "execution_count": 62,
     "metadata": {},
     "output_type": "execute_result"
    }
   ],
   "source": [
    "param_grid={'max_depth': list(range(1, 15))}\n",
    "\n",
    "\n",
    "from sklearn.ensemble import RandomForestRegressor\n",
    "model=RandomForestRegressor(random_state=0)\n",
    "\n",
    "\n",
    "\n",
    "from sklearn.model_selection import GridSearchCV\n",
    "grid_search = GridSearchCV(model, param_grid, cv=5,return_train_score=True,iid=False,n_jobs=-1)\n",
    "\n",
    "grid_search.fit(X_train,y_train)\n",
    "\n",
    "grid_search.best_params_,grid_search.best_score_\n"
   ]
  },
  {
   "cell_type": "code",
   "execution_count": 63,
   "metadata": {},
   "outputs": [],
   "source": [
    "# RandomForest with the best predictor\n",
    "Rsquare_train_RandomForest=grid_search.best_score_\n",
    "c=grid_search.best_params_\n",
    "rf_reg=RandomForestRegressor(**c,random_state=0)\n",
    "rf_reg.fit(X_train,y_train)\n",
    "rf_reg_pred=rf_reg.predict(X_test)\n"
   ]
  },
  {
   "cell_type": "markdown",
   "metadata": {},
   "source": [
    "# KNeighborsRegressor"
   ]
  },
  {
   "cell_type": "markdown",
   "metadata": {},
   "source": [
    "> Scaled data will be used in Kneighbours because without scalling some columns might have much more impact while calculating distance than other columns "
   ]
  },
  {
   "cell_type": "code",
   "execution_count": 64,
   "metadata": {},
   "outputs": [
    {
     "name": "stderr",
     "output_type": "stream",
     "text": [
      "/Users/sandeepgautam/opt/anaconda3/lib/python3.8/site-packages/sklearn/model_selection/_search.py:847: FutureWarning: The parameter 'iid' is deprecated in 0.22 and will be removed in 0.24.\n",
      "  warnings.warn(\n"
     ]
    },
    {
     "data": {
      "text/plain": [
       "({'n_neighbors': 29}, 0.5447400692433902)"
      ]
     },
     "execution_count": 64,
     "metadata": {},
     "output_type": "execute_result"
    }
   ],
   "source": [
    "from sklearn.ensemble import RandomForestRegressor\n",
    "from sklearn.model_selection import GridSearchCV\n",
    "from sklearn.neighbors import KNeighborsRegressor\n",
    "\n",
    "\n",
    "\n",
    "\n",
    "model=KNeighborsRegressor()\n",
    "param_grid={'n_neighbors': list(range(1,30))}\n",
    "grid_search = GridSearchCV(model, param_grid, cv=5,return_train_score=True,iid=False,n_jobs=-1)\n",
    "grid_search.fit(X_train,y_train)\n",
    "grid_search.best_params_,grid_search.best_score_\n"
   ]
  },
  {
   "cell_type": "code",
   "execution_count": 65,
   "metadata": {},
   "outputs": [],
   "source": [
    "# Kneighbour with the best parameter"
   ]
  },
  {
   "cell_type": "code",
   "execution_count": 97,
   "metadata": {},
   "outputs": [
    {
     "data": {
      "text/plain": [
       "5"
      ]
     },
     "execution_count": 97,
     "metadata": {},
     "output_type": "execute_result"
    }
   ],
   "source": [
    "5"
   ]
  },
  {
   "cell_type": "code",
   "execution_count": 66,
   "metadata": {},
   "outputs": [],
   "source": [
    "c=grid_search.best_params_\n",
    "Rsquare_train_KNeighborsRegressor=grid_search.best_score_\n",
    "knn_reg = KNeighborsRegressor(**c)\n",
    "knn_reg.fit(X_train, y_train)\n",
    "knn_pred= knn_reg.predict(X_test)\n",
    "\n"
   ]
  },
  {
   "cell_type": "markdown",
   "metadata": {},
   "source": [
    "# Linear regression"
   ]
  },
  {
   "cell_type": "markdown",
   "metadata": {},
   "source": [
    "> There is no need to scale the data for the linear regression because we will get the same result in both cases"
   ]
  },
  {
   "cell_type": "code",
   "execution_count": 67,
   "metadata": {},
   "outputs": [
    {
     "name": "stdout",
     "output_type": "stream",
     "text": [
      "Train score\n",
      "0.5027489982630755\n",
      "Test score\n",
      "0.5015338442569903\n"
     ]
    }
   ],
   "source": [
    "from sklearn.linear_model import LinearRegression\n",
    "reg = LinearRegression().fit(X_train, y_train)\n",
    "print('Train score')\n",
    "print(reg.score(X_train, y_train))\n",
    "print('Test score')\n",
    "print(reg.score(X_test, y_test))\n",
    "\n",
    "\n"
   ]
  },
  {
   "cell_type": "code",
   "execution_count": 68,
   "metadata": {},
   "outputs": [],
   "source": [
    "lreg_pred= reg.predict(X_test)\n",
    "Rsquare_train_Linearregression=reg.score(X_train, y_train)\n"
   ]
  },
  {
   "cell_type": "markdown",
   "metadata": {},
   "source": [
    "# Ridge regression"
   ]
  },
  {
   "cell_type": "markdown",
   "metadata": {},
   "source": [
    "> We use Scaled data for both Ridge and Lasso because it will take less time for the gradient(derivative) to reach to the minimum value "
   ]
  },
  {
   "cell_type": "code",
   "execution_count": 69,
   "metadata": {},
   "outputs": [],
   "source": [
    "\n",
    "from sklearn.linear_model import Ridge\n",
    "\n",
    "train_score_list = []\n",
    "test_score_list = []\n",
    "\n",
    "for alpha in [0.01, 0.1, 1, 10, 100,500]: \n",
    "    ridge = Ridge(alpha)\n",
    "    ridge.fit(X_train,  y_train)\n",
    "    train_score_list.append(ridge.score(X_train, y_train))\n",
    "    test_score_list.append(ridge.score(X_test, y_test))"
   ]
  },
  {
   "cell_type": "code",
   "execution_count": 70,
   "metadata": {},
   "outputs": [
    {
     "data": {
      "image/png": "[encoded data removed]",
      "text/plain": [
       "<Figure size 1440x360 with 1 Axes>"
      ]
     },
     "metadata": {
      "needs_background": "light"
     },
     "output_type": "display_data"
    }
   ],
   "source": [
    "%matplotlib inline\n",
    "import matplotlib.pyplot as plt\n",
    "\n",
    "x_range = [0.01, 0.1, 1, 10, 100,500]\n",
    "\n",
    "plt.subplots(figsize = (20,5))\n",
    "plt.plot(x_range, train_score_list, c = 'g', label = 'Train Score')\n",
    "plt.plot(x_range, test_score_list, c = 'b', label = 'Test Score')\n",
    "plt.xscale('log')\n",
    "plt.legend(loc = 3)\n",
    "plt.xlabel(r'$\\alpha$')\n",
    "plt.grid()"
   ]
  },
  {
   "cell_type": "code",
   "execution_count": 71,
   "metadata": {},
   "outputs": [],
   "source": [
    "from  sklearn.linear_model import Ridge\n",
    "\n",
    "ridge = Ridge(0.01)\n",
    "ridge.fit(X_train,  y_train)\n",
    "\n",
    "ridge_pred= ridge.predict(X_test)"
   ]
  },
  {
   "cell_type": "code",
   "execution_count": 72,
   "metadata": {},
   "outputs": [],
   "source": [
    "Rsquare_train_Ridge=ridge.score(X_train,  y_train)"
   ]
  },
  {
   "cell_type": "markdown",
   "metadata": {},
   "source": [
    "# Lasso\n"
   ]
  },
  {
   "cell_type": "code",
   "execution_count": 73,
   "metadata": {},
   "outputs": [],
   "source": [
    "from sklearn.linear_model import Lasso\n",
    "x_range = [0.01, 0.1, 1, 10, 100]\n",
    "train_score_list = []\n",
    "test_score_list = []\n",
    "\n",
    "for alpha in x_range: \n",
    "    lasso = Lasso(alpha)\n",
    "    lasso.fit(X_train,y_train)\n",
    "    train_score_list.append(lasso.score(X_train,y_train))\n",
    "    test_score_list.append(lasso.score(X_test, y_test))"
   ]
  },
  {
   "cell_type": "code",
   "execution_count": 74,
   "metadata": {},
   "outputs": [
    {
     "data": {
      "image/png": "[encoded data removed]",
      "text/plain": [
       "<Figure size 1440x360 with 1 Axes>"
      ]
     },
     "metadata": {
      "needs_background": "light"
     },
     "output_type": "display_data"
    }
   ],
   "source": [
    "%matplotlib inline\n",
    "plt.subplots(figsize = (20,5))\n",
    "plt.plot(x_range, train_score_list, c = 'g', label = 'Train Score')\n",
    "plt.plot(x_range, test_score_list, c = 'b', label = 'Test Score')\n",
    "plt.xscale('log')\n",
    "plt.legend(loc = 3)\n",
    "plt.xlabel(r'$\\alpha$')\n",
    "plt.grid()"
   ]
  },
  {
   "cell_type": "code",
   "execution_count": 75,
   "metadata": {},
   "outputs": [],
   "source": [
    "lasso = Lasso(0.01)\n",
    "lasso.fit(X_train,y_train)\n",
    "lasso_pred=lasso.predict(X_test)\n",
    "Rsquare_train_lasso=lasso.score(X_train,  y_train)\n"
   ]
  },
  {
   "cell_type": "markdown",
   "metadata": {},
   "source": [
    "# Polynomial regression"
   ]
  },
  {
   "cell_type": "code",
   "execution_count": 76,
   "metadata": {},
   "outputs": [],
   "source": [
    "train_score_list = []\n",
    "test_score_list = []\n",
    "x_range=list(range(1,5))\n",
    "\n",
    "\n",
    "from  sklearn.preprocessing  import PolynomialFeatures\n",
    "for i in range(1,5):\n",
    "    poly = PolynomialFeatures(degree = i)\n",
    "    X_train_poly = poly.fit_transform(X_train)\n",
    "    X_test_poly = poly.transform(X_test)\n",
    "    poly_reg = LinearRegression()\n",
    "    poly_reg.fit(X_train_poly, y_train)\n",
    "    train_score_list.append(poly_reg.score(X_train_poly, y_train))\n",
    "    test_score_list.append(poly_reg.score(X_test_poly, y_test))\n",
    "    \n",
    "\n",
    "\n",
    "    "
   ]
  },
  {
   "cell_type": "code",
   "execution_count": 77,
   "metadata": {},
   "outputs": [
    {
     "data": {
      "text/plain": [
       "[<matplotlib.lines.Line2D at 0x7fbd76e63df0>]"
      ]
     },
     "execution_count": 77,
     "metadata": {},
     "output_type": "execute_result"
    },
    {
     "data": {
      "image/png": "[encoded data removed]",
      "text/plain": [
       "<Figure size 432x288 with 1 Axes>"
      ]
     },
     "metadata": {
      "needs_background": "light"
     },
     "output_type": "display_data"
    }
   ],
   "source": [
    "\n",
    "plt.plot(x_range, train_score_list, c = 'g', label = 'Train Score')\n",
    "\n"
   ]
  },
  {
   "cell_type": "code",
   "execution_count": 78,
   "metadata": {},
   "outputs": [
    {
     "data": {
      "text/plain": [
       "[<matplotlib.lines.Line2D at 0x7fbc7cc33730>]"
      ]
     },
     "execution_count": 78,
     "metadata": {},
     "output_type": "execute_result"
    },
    {
     "data": {
      "image/png": "[encoded data removed]",
      "text/plain": [
       "<Figure size 432x288 with 1 Axes>"
      ]
     },
     "metadata": {
      "needs_background": "light"
     },
     "output_type": "display_data"
    }
   ],
   "source": [
    "plt.plot(x_range, test_score_list, c = 'b', label = 'Test Score')\n"
   ]
  },
  {
   "cell_type": "markdown",
   "metadata": {},
   "source": [
    "* Since the test r square are negatives, There is no proof that polynomial is going to work in the unseen model. it  is clearly overfitting"
   ]
  },
  {
   "cell_type": "markdown",
   "metadata": {},
   "source": [
    "# SGD Regressor\n"
   ]
  },
  {
   "cell_type": "code",
   "execution_count": 79,
   "metadata": {},
   "outputs": [
    {
     "name": "stderr",
     "output_type": "stream",
     "text": [
      "/Users/sandeepgautam/opt/anaconda3/lib/python3.8/site-packages/sklearn/model_selection/_search.py:847: FutureWarning: The parameter 'iid' is deprecated in 0.22 and will be removed in 0.24.\n",
      "  warnings.warn(\n"
     ]
    },
    {
     "data": {
      "text/plain": [
       "({'eta0': 0.001, 'max_iter': 1000}, 0.49973482781627754)"
      ]
     },
     "execution_count": 79,
     "metadata": {},
     "output_type": "execute_result"
    }
   ],
   "source": [
    "from sklearn.linear_model import SGDRegressor\n",
    "model = SGDRegressor(random_state=0,learning_rate='constant')\n",
    "\n",
    "\n",
    "param_grid = {'eta0': [0.001, 0.01, 0.1],\n",
    "\n",
    "              'max_iter': [1000,5000, 10000]}\n",
    "\n",
    "\n",
    "from sklearn.model_selection import GridSearchCV\n",
    "grid_search = GridSearchCV(model, param_grid, cv=5,return_train_score=True,iid=False,n_jobs=-1)\n",
    "\n",
    "grid_search.fit(X_train,y_train)\n",
    "\n",
    "grid_search.best_params_,grid_search.best_score_"
   ]
  },
  {
   "cell_type": "code",
   "execution_count": 80,
   "metadata": {},
   "outputs": [
    {
     "name": "stderr",
     "output_type": "stream",
     "text": [
      "/Users/sandeepgautam/opt/anaconda3/lib/python3.8/site-packages/sklearn/linear_model/_stochastic_gradient.py:1208: ConvergenceWarning: Maximum number of iteration reached before convergence. Consider increasing max_iter to improve the fit.\n",
      "  warnings.warn(\"Maximum number of iteration reached before \"\n"
     ]
    }
   ],
   "source": [
    "Rsquare_train_SGD=grid_search.best_score_\n",
    "c=grid_search.best_params_\n",
    "model=SGDRegressor(**c)\n",
    "model.fit(X_train,y_train)\n",
    "SGDRegressor_predict=model.predict(X_test)\n"
   ]
  },
  {
   "cell_type": "markdown",
   "metadata": {},
   "source": [
    ">  For SVR, the feature/variable(s) has to be normalized as the C-value which controls the model complexity is over the feature/variable"
   ]
  },
  {
   "cell_type": "markdown",
   "metadata": {},
   "source": [
    "# SVM"
   ]
  },
  {
   "cell_type": "code",
   "execution_count": 81,
   "metadata": {},
   "outputs": [
    {
     "name": "stdout",
     "output_type": "stream",
     "text": [
      "Train score\n",
      "0.5094694972753289\n",
      "Test score :\n",
      "0.5133243931206086\n"
     ]
    }
   ],
   "source": [
    "from sklearn.svm import SVR\n",
    "random_state=0\n",
    "SVR=SVR()\n",
    "SVR.fit(X_train,y_train)\n",
    "print(\"Train score\")\n",
    "print(SVR.score(X_train,y_train))\n",
    "\n",
    "\n",
    "print(\"Test score :\")\n",
    "print(SVR.score(X_test,y_test))\n",
    "\n",
    "\n"
   ]
  },
  {
   "cell_type": "markdown",
   "metadata": {},
   "source": [
    "### Grid Search:\n",
    ">Grid Search employs a cross-validation technique using various folds of the data. Earlier, naive grid search was employed, but in the following section, the Grid Search function is employed from sklearn. This function is useful for multiple reasons, but specifically because it automatically uses cross-validation using a simple hyper-parameter, cv. I set cv=5, so it will split the data into 5 different folds. "
   ]
  },
  {
   "cell_type": "markdown",
   "metadata": {},
   "source": [
    "# DecisionTreeRegressor with GridSearchCV to find out the best hyperparameter"
   ]
  },
  {
   "cell_type": "code",
   "execution_count": 82,
   "metadata": {},
   "outputs": [
    {
     "data": {
      "text/plain": [
       "GridSearchCV(cv=5, estimator=DecisionTreeRegressor(random_state=0), n_jobs=-1,\n",
       "             param_grid={'max_depth': [2, 6, 8], 'max_leaf_nodes': [5, 20, 100],\n",
       "                         'min_samples_leaf': [20, 40, 100],\n",
       "                         'min_samples_split': [10, 20, 40]})"
      ]
     },
     "execution_count": 82,
     "metadata": {},
     "output_type": "execute_result"
    }
   ],
   "source": [
    "from sklearn.tree import DecisionTreeRegressor\n",
    "\n",
    "dtm = DecisionTreeRegressor(random_state=0)\n",
    "\n",
    "param_grid = {\"min_samples_split\": [10, 20, 40],\n",
    "              \"max_depth\": [2, 6, 8],\n",
    "              \"min_samples_leaf\": [20, 40, 100],\n",
    "              \"max_leaf_nodes\": [5, 20, 100],\n",
    "              }\n",
    "\n",
    "\n",
    "\n",
    "grid_cv_dtm = GridSearchCV(dtm, param_grid, cv=5,n_jobs=-1)\n",
    "\n",
    "grid_cv_dtm.fit(X_train,y_train)"
   ]
  },
  {
   "cell_type": "code",
   "execution_count": 83,
   "metadata": {},
   "outputs": [],
   "source": [
    "c=grid_cv_dtm.best_params_\n",
    "Rsquare_train_decision_tree=grid_search.best_score_"
   ]
  },
  {
   "cell_type": "code",
   "execution_count": 84,
   "metadata": {},
   "outputs": [
    {
     "data": {
      "text/plain": [
       "array([ 60.70118005, 175.5121349 ,  65.96710964, ...,  75.74704317,\n",
       "        72.24230032, 167.10154982])"
      ]
     },
     "execution_count": 84,
     "metadata": {},
     "output_type": "execute_result"
    }
   ],
   "source": [
    "dtm = DecisionTreeRegressor(**c,random_state=0)\n",
    "dtm.fit(X_train,y_train)\n",
    "decision_tree_pred=dtm.predict(X_test)\n",
    "decision_tree_pred"
   ]
  },
  {
   "cell_type": "markdown",
   "metadata": {},
   "source": [
    "# SVR with GRIDSEARCH to find the best hyperparameter"
   ]
  },
  {
   "cell_type": "code",
   "execution_count": 85,
   "metadata": {},
   "outputs": [
    {
     "data": {
      "text/plain": [
       "({'C': 100, 'gamma': 1, 'kernel': 'poly'}, 0.5423078791377849)"
      ]
     },
     "execution_count": 85,
     "metadata": {},
     "output_type": "execute_result"
    }
   ],
   "source": [
    "random_state=0\n",
    "from sklearn.svm import SVR\n",
    "from sklearn.model_selection import GridSearchCV\n",
    "from sklearn.model_selection import GridSearchCV\n",
    "from sklearn.svm import SVR\n",
    "model=SVR()\n",
    "\n",
    "\n",
    "\n",
    "\n",
    "\n",
    "param_grid = {'C': [0.1, 1, 10,100],'kernel':['rbf', 'poly', 'linear'],'gamma':[0.01,0.1,1]}\n",
    "random_state=0\n",
    "\n",
    "grid_search = GridSearchCV(model, param_grid, scoring='r2',n_jobs=-1)\n",
    "\n",
    "grid_search.fit(X_train,y_train)\n",
    "grid_search.best_params_,grid_search.best_score_\n",
    "\n"
   ]
  },
  {
   "cell_type": "code",
   "execution_count": 86,
   "metadata": {},
   "outputs": [],
   "source": [
    "Rsquare_train_SVR=grid_search.best_score_"
   ]
  },
  {
   "cell_type": "code",
   "execution_count": 87,
   "metadata": {},
   "outputs": [],
   "source": [
    "c=grid_search.best_params_\n",
    "SVRModel=SVR(**c)\n",
    "SVRModel.fit(X_train,y_train)\n",
    "SVR_predict=SVRModel.predict(X_test)\n",
    "\n"
   ]
  },
  {
   "cell_type": "code",
   "execution_count": 88,
   "metadata": {},
   "outputs": [
    {
     "data": {
      "text/plain": [
       "0.5489146036454089"
      ]
     },
     "execution_count": 88,
     "metadata": {},
     "output_type": "execute_result"
    }
   ],
   "source": [
    "r2_score(y_train, SVRModel.predict(X_train))"
   ]
  },
  {
   "cell_type": "code",
   "execution_count": 89,
   "metadata": {},
   "outputs": [
    {
     "data": {
      "text/plain": [
       "0.5528857294348584"
      ]
     },
     "execution_count": 89,
     "metadata": {},
     "output_type": "execute_result"
    }
   ],
   "source": [
    "0.5528857294348584"
   ]
  },
  {
   "cell_type": "code",
   "execution_count": 90,
   "metadata": {},
   "outputs": [
    {
     "name": "stdout",
     "output_type": "stream",
     "text": [
      "-------------KNN Regressor-----------\n",
      "R2(train) 0.544740\n",
      "R2(test) 0.545526\n",
      "RMSE(test): 34.462347\n",
      "---------------Linear Regressor---------------------\n",
      "R2(train) 0.502749\n",
      "R2(test) 0.501534\n",
      "RMSE(test): 36.091751\n",
      "---------------Ridge-----------------------\n",
      "R2(train) 0.502762\n",
      "R2(test) 0.501615\n",
      "RMSE(test): 36.088809\n",
      "---------------Lasso-----------------------\n",
      "R2(train) 0.502533\n",
      "R2(test) 0.501385\n",
      "RMSE(test): 36.097139\n",
      "---------------Random Forest-----------------------\n",
      "R2(train) 0.572662\n",
      "R2(test) 0.577253\n",
      "RMSE(test): 33.237661\n",
      "---------------DecisionTreeRegressor-----------------------\n",
      "R2(train) 0.499735\n",
      "R2(test) 0.545371\n",
      "RMSE(test): 34.468219\n",
      "---------------SGDRegressor-----------------------\n",
      "R2(train) 0.499735\n",
      "R2(test) 0.497493\n",
      "RMSE(test): 36.237737\n",
      "---------------SVR-----------------------\n",
      "R2(Train) 0.542308\n",
      "R2(Test) 0.544340\n",
      "RMSE(Test): 34.507285\n"
     ]
    }
   ],
   "source": [
    "print('-------------KNN Regressor-----------')\n",
    "\n",
    "print('R2(train) %f' % Rsquare_train_KNeighborsRegressor)\n",
    "print('R2(test) %f' % r2_score(y_test, knn_pred))\n",
    "print('RMSE(test): %f'% np.sqrt(mean_squared_error(y_test, knn_pred)))   \n",
    "\n",
    "\n",
    "print('---------------Linear Regressor---------------------')\n",
    "\n",
    "print('R2(train) %f' % Rsquare_train_Linearregression)\n",
    "print('R2(test) %f' % r2_score(y_test, lreg_pred))\n",
    "print('RMSE(test): %f'% np.sqrt(mean_squared_error(y_test, lreg_pred)))\n",
    "\n",
    "\n",
    "print('---------------Ridge-----------------------')\n",
    "\n",
    "print('R2(train) %f' % Rsquare_train_Ridge)\n",
    "print('R2(test) %f' % r2_score(y_test, ridge_pred))\n",
    "print('RMSE(test): %f'% np.sqrt(mean_squared_error(y_test, ridge_pred)))\n",
    "\n",
    "\n",
    "print('---------------Lasso-----------------------')\n",
    "\n",
    "print('R2(train) %f' % Rsquare_train_lasso)\n",
    "print('R2(test) %f' % r2_score(y_test, lasso_pred))\n",
    "print('RMSE(test): %f'% np.sqrt(mean_squared_error(y_test, lasso_pred)))\n",
    "\n",
    "print('---------------Random Forest-----------------------')\n",
    "\n",
    "print('R2(train) %f' % Rsquare_train_RandomForest)\n",
    "print('R2(test) %f' % r2_score(y_test, rf_reg_pred))\n",
    "print('RMSE(test): %f'% np.sqrt(mean_squared_error(y_test, rf_reg_pred)))\n",
    "\n",
    "\n",
    "print('---------------DecisionTreeRegressor-----------------------')\n",
    "\n",
    "print('R2(train) %f' % Rsquare_train_decision_tree)\n",
    "print('R2(test) %f' % r2_score(y_test, decision_tree_pred))\n",
    "print('RMSE(test): %f'% np.sqrt(mean_squared_error(y_test, decision_tree_pred)))\n",
    "\n",
    "\n",
    "print('---------------SGDRegressor-----------------------')\n",
    "\n",
    "print('R2(train) %f' % Rsquare_train_SGD)\n",
    "print('R2(test) %f' % r2_score(y_test, SGDRegressor_predict))\n",
    "print('RMSE(test): %f'% np.sqrt(mean_squared_error(y_test, SGDRegressor_predict)))\n",
    "\n",
    "\n",
    "print('---------------SVR-----------------------')\n",
    "\n",
    "print('R2(Train) %f' % Rsquare_train_SVR)\n",
    "print('R2(Test) %f' % r2_score(y_test, SVR_predict))\n",
    "print('RMSE(Test): %f' % np.sqrt(mean_squared_error(y_test, SVR_predict)))\n",
    "\n",
    "\n",
    "\n",
    "\n"
   ]
  },
  {
   "cell_type": "markdown",
   "metadata": {},
   "source": [
    "* We choose Random Forest as it is giving us the best best R square in both train and test. Plus it also has loweste test RMSE with\n",
    "> max_depth=10"
   ]
  },
  {
   "cell_type": "code",
   "execution_count": 91,
   "metadata": {},
   "outputs": [
    {
     "data": {
      "text/plain": [
       "array([ 58.59864306, 189.76166459,  71.80222505, ...,  80.90454349,\n",
       "        83.00598619, 221.67593945])"
      ]
     },
     "execution_count": 91,
     "metadata": {},
     "output_type": "execute_result"
    }
   ],
   "source": [
    "Bestregressor=RandomForestRegressor(max_depth=12,random_state=0)\n",
    "Bestregressor.fit(X_train,y_train)\n",
    "Bestregressor.predict(X_test)\n",
    "\n"
   ]
  },
  {
   "cell_type": "code",
   "execution_count": 92,
   "metadata": {},
   "outputs": [
    {
     "data": {
      "text/plain": [
       "array([1.18650220e-01, 1.17226129e-01, 2.70842056e-02, 2.56131300e-02,\n",
       "       3.29574251e-02, 2.49178988e-02, 4.55565919e-02, 3.65949801e-04,\n",
       "       3.29017665e-04, 3.65899117e-02, 5.21636096e-04, 6.42327501e-05,\n",
       "       5.61968464e-01, 3.83069570e-03, 4.32449229e-03])"
      ]
     },
     "execution_count": 92,
     "metadata": {},
     "output_type": "execute_result"
    }
   ],
   "source": [
    "Bestregressor.feature_importances_"
   ]
  },
  {
   "cell_type": "code",
   "execution_count": 93,
   "metadata": {},
   "outputs": [
    {
     "data": {
      "text/plain": [
       "array([1.18650220e-01, 1.17226129e-01, 2.70842056e-02, 2.56131300e-02,\n",
       "       3.29574251e-02, 2.49178988e-02, 4.55565919e-02, 3.65949801e-04,\n",
       "       3.29017665e-04, 3.65899117e-02, 5.21636096e-04, 6.42327501e-05,\n",
       "       5.61968464e-01, 3.83069570e-03, 4.32449229e-03])"
      ]
     },
     "execution_count": 93,
     "metadata": {},
     "output_type": "execute_result"
    }
   ],
   "source": [
    "Bestregressor.feature_importances_"
   ]
  },
  {
   "cell_type": "code",
   "execution_count": 94,
   "metadata": {},
   "outputs": [
    {
     "data": {
      "text/plain": [
       "Index(['latitude', 'longitude', 'minimum_nights', 'number_of_reviews',\n",
       "       'reviews_per_month', 'calculated_host_listings_count',\n",
       "       'availability_365', 'Neighb-group_Bronx', 'Neighb-group_Brooklyn',\n",
       "       'Neighb-group_Manhattan', 'Neighb-group_Queens',\n",
       "       'Neighb-group_Staten Island', 'Room_Entire home', 'Room_Private room',\n",
       "       'Room_Shared room'],\n",
       "      dtype='object')"
      ]
     },
     "execution_count": 94,
     "metadata": {},
     "output_type": "execute_result"
    }
   ],
   "source": [
    "X.columns"
   ]
  },
  {
   "cell_type": "markdown",
   "metadata": {},
   "source": [
    "* Understanding which variable had the hig"
   ]
  },
  {
   "cell_type": "code",
   "execution_count": 95,
   "metadata": {},
   "outputs": [
    {
     "name": "stdout",
     "output_type": "stream",
     "text": [
      "latitude = 0.11865022006202523\n",
      "longitude = 0.1172261287444222\n",
      "minimum_nights = 0.027084205639796945\n",
      "number_of_reviews = 0.025613130016987864\n",
      "reviews_per_month = 0.03295742513637655\n",
      "calculated_host_listings_count = 0.024917898823440195\n",
      "availability_365 = 0.04555659194555818\n",
      "Neighb-group_Bronx = 0.000365949800948093\n",
      "Neighb-group_Brooklyn = 0.00032901766453457344\n",
      "Neighb-group_Manhattan = 0.03658991172193847\n",
      "Neighb-group_Queens = 0.0005216360964730355\n",
      "Neighb-group_Staten Island = 6.423275014684227e-05\n",
      "Room_Entire home = 0.5619684636005619\n",
      "Room_Private room = 0.003830695704274323\n",
      "Room_Shared room = 0.004324492292515687\n"
     ]
    }
   ],
   "source": [
    "for name, importance in zip(X_train_org.columns, Bestregressor.feature_importances_):\n",
    "    print(name, \"=\", importance)"
   ]
  },
  {
   "cell_type": "code",
   "execution_count": 96,
   "metadata": {},
   "outputs": [
    {
     "data": {
      "image/png": "[encoded data removed]",
      "text/plain": [
       "<Figure size 432x288 with 1 Axes>"
      ]
     },
     "metadata": {
      "needs_background": "light"
     },
     "output_type": "display_data"
    }
   ],
   "source": [
    "features = X_train_org.columns\n",
    "importances = Bestregressor.feature_importances_\n",
    "indices = np.argsort(importances)\n",
    "\n",
    "plt.title('Feature Importances')\n",
    "plt.barh(range(len(indices)), importances[indices], color='b', align='center')\n",
    "plt.yticks(range(len(indices)), [features[i] for i in indices])\n",
    "plt.xlabel('Relative Importance')\n",
    "plt.show()"
   ]
  },
  {
   "cell_type": "markdown",
   "metadata": {},
   "source": [
    "# Conclusion\n",
    "* From the analysis we understand that if the Room type is Entrie home, it is going to have the highest impact in the price which is what we expected\n",
    "* We also understood that the area where the Airbnb is located is also going to have a high influence in the price\n",
    "* The next insight we got was that if the house is avialable for more number of days in a year, it is going to be priced high\n",
    "> Maybe this is because when the house is more avialable, more recent reviews will be there for the customer to see, which increases the demand of the house leading to higher prices. People trust the house more if it has got more reviews\n",
    "* Houses in the Manhattan neighhood also seems to have more influence in the pric for obvious reason i.e manhattan is relatively expensive area\n",
    "* For somebody who is looking for AirBnb, based on this data they can look for different house based on how much they can afford\n",
    "> To get a cheaper Airbnb, they can look for private/shared rooms which is available less or the house which has less number of reviews; meaning houses which are recently added \n",
    "<b> And try to avoid area near Manhattan if possible"
   ]
  },
  {
   "cell_type": "markdown",
   "metadata": {},
   "source": [
    "## However our analysis is completely based on feature importance so these factors may/mayn't have the anticipated influence on the price"
   ]
  },
  {
   "cell_type": "markdown",
   "metadata": {},
   "source": [
    "* Although random forest is giving us the best model, we will use linear regression just to  understand the feature importance \n",
    "> We are removing the latitute and longitute to get a clean analysis"
   ]
  },
  {
   "cell_type": "code",
   "execution_count": 228,
   "metadata": {},
   "outputs": [],
   "source": [
    "newx=X_train_org.iloc[:,X_train_org.columns!='longitude']\n",
    "newx=newx.iloc[:,newx.columns!='latitude']\n",
    "\n"
   ]
  },
  {
   "cell_type": "code",
   "execution_count": 232,
   "metadata": {},
   "outputs": [
    {
     "data": {
      "text/plain": [
       "array([-1.36278774e-01,  4.11166479e-03, -5.23705149e-01,  1.45505319e-01,\n",
       "        3.15250624e-02, -1.45923614e+01,  7.26838916e+00,  2.90748915e+01,\n",
       "       -3.03330437e+00, -1.87176149e+01,  5.05482235e+01, -1.18471161e+01,\n",
       "       -3.87011073e+01])"
      ]
     },
     "execution_count": 232,
     "metadata": {},
     "output_type": "execute_result"
    }
   ],
   "source": [
    "from sklearn.linear_model import LinearRegression\n",
    "Linearreg = LinearRegression().fit(newx, y_train)\n",
    "Linearreg.coef_\n",
    "\n"
   ]
  },
  {
   "cell_type": "code",
   "execution_count": 234,
   "metadata": {},
   "outputs": [
    {
     "data": {
      "image/png": "[encoded data removed]",
      "text/plain": [
       "<Figure size 432x288 with 1 Axes>"
      ]
     },
     "metadata": {
      "needs_background": "light"
     },
     "output_type": "display_data"
    }
   ],
   "source": [
    "features = newx.columns\n",
    "importances = Linearreg.coef_\n",
    "indices = np.argsort(importances)\n",
    "\n",
    "plt.title('Feature Importances')\n",
    "plt.barh(range(len(indices)), importances[indices], color='b', align='center')\n",
    "plt.yticks(range(len(indices)), [features[i] for i in indices])\n",
    "plt.xlabel('Relative Importance')\n",
    "plt.show()"
   ]
  },
  {
   "cell_type": "markdown",
   "metadata": {},
   "source": [
    "## Based on this graph, we see some obvious results like\n",
    "* Entire houses are expensive \n",
    "* Houses in Manhattan and Brookln are expensive wehre as houses in Bronx and Staten Island are not\n",
    "* And if you have to save some money, live in shared rooms\n"
   ]
  },
  {
   "cell_type": "code",
   "execution_count": null,
   "metadata": {},
   "outputs": [],
   "source": []
  }
 ],
 "metadata": {
  "kernelspec": {
   "display_name": "Python 3",
   "language": "python",
   "name": "python3"
  },
  "language_info": {
   "codemirror_mode": {
    "name": "ipython",
    "version": 3
   },
   "file_extension": ".py",
   "mimetype": "text/x-python",
   "name": "python",
   "nbconvert_exporter": "python",
   "pygments_lexer": "ipython3",
   "version": "3.8.5"
  }
 },
 "nbformat": 4,
 "nbformat_minor": 4
}
